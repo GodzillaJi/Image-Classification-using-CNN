{
 "cells": [
  {
   "cell_type": "code",
   "execution_count": null,
   "id": "452a9a4d-585e-4cf6-b603-a04644a030c8",
   "metadata": {},
   "outputs": [],
   "source": [
    "# !python -m pip install --upgrade pip"
   ]
  },
  {
   "cell_type": "code",
   "execution_count": null,
   "id": "c960ce17-8d3b-49fa-851a-ab8c47ab9a04",
   "metadata": {},
   "outputs": [],
   "source": [
    "# !pip install --upgrade pip\n",
    "!pip install tensorflow"
   ]
  },
  {
   "cell_type": "code",
   "execution_count": null,
   "id": "ac491bca-51aa-45cf-99cd-78a2eaa56504",
   "metadata": {},
   "outputs": [],
   "source": [
    "!pip show tensorflow"
   ]
  },
  {
   "cell_type": "code",
   "execution_count": null,
   "id": "41478ffc-3af5-498e-bcdc-7095d3f14378",
   "metadata": {},
   "outputs": [],
   "source": [
    "import tensorflow as tf\n",
    "# from tensorflow.keras import datasets, layers, models\n",
    "import numpy as np\n",
    "import matplotlib.pyplot as plt"
   ]
  },
  {
   "cell_type": "code",
   "execution_count": null,
   "id": "7fca3519-a55d-469b-97f8-e9f9d0987189",
   "metadata": {},
   "outputs": [],
   "source": [
    "(X_train, Y_train), (X_test, Y_test) = datasets.cifar10.load_data()"
   ]
  },
  {
   "cell_type": "code",
   "execution_count": null,
   "id": "bed22018-4b0a-47d9-9765-3dff96809a9d",
   "metadata": {},
   "outputs": [],
   "source": [
    "X_test.shape"
   ]
  },
  {
   "cell_type": "code",
   "execution_count": null,
   "id": "3bdb1969-fdbd-4c2d-9450-c784c182a423",
   "metadata": {},
   "outputs": [],
   "source": [
    "X_train.shape"
   ]
  },
  {
   "cell_type": "code",
   "execution_count": null,
   "id": "cc7f28af-ebf4-4038-896c-bd8b8bbeec2e",
   "metadata": {},
   "outputs": [],
   "source": [
    "Y_train.shape"
   ]
  },
  {
   "cell_type": "code",
   "execution_count": null,
   "id": "4ef86610-ccda-475f-998e-9493d61f31f5",
   "metadata": {},
   "outputs": [],
   "source": [
    "Y_train[:5]"
   ]
  },
  {
   "cell_type": "code",
   "execution_count": null,
   "id": "36e3c308-22e4-4635-8479-5198625f4f5d",
   "metadata": {},
   "outputs": [],
   "source": [
    "Y_train = Y_train.reshape(-1,)\n",
    "Y_train[:5]"
   ]
  },
  {
   "cell_type": "code",
   "execution_count": null,
   "id": "2d8972e6-cb8c-4e78-a5d2-60ccb46a5e68",
   "metadata": {},
   "outputs": [],
   "source": [
    "Y_test = Y_test.reshape(-1,)"
   ]
  },
  {
   "cell_type": "code",
   "execution_count": null,
   "id": "fe9d4d14-b5c4-41fe-91ee-039af4fde958",
   "metadata": {},
   "outputs": [],
   "source": [
    "classes = ['airplane', 'automobile', 'bird', 'cat', 'deer', 'dog', 'frog', 'ship', 'truck', 'cycle', 'lion', 'tiger']"
   ]
  },
  {
   "cell_type": "code",
   "execution_count": null,
   "id": "14fec8fd-3524-46f5-95a0-75e1c633dd3c",
   "metadata": {},
   "outputs": [],
   "source": [
    "def plot_sample(X, Y, index):\n",
    "    plt.figure(figsize=(15,2))\n",
    "    plt.imshow(X[index])\n",
    "    plt.xlabel(classes[y[index]])"
   ]
  },
  {
   "cell_type": "code",
   "execution_count": null,
   "id": "2484fc75-2fc7-4134-9d39-fd24dae0dc12",
   "metadata": {},
   "outputs": [],
   "source": [
    "plot_sample(X_train, Y_train, 5)"
   ]
  },
  {
   "cell_type": "code",
   "execution_count": null,
   "id": "618094dd-1233-49b4-97e2-b769aeba670e",
   "metadata": {},
   "outputs": [],
   "source": [
    "plot_sample(X_train, Y_train, 10)"
   ]
  },
  {
   "cell_type": "code",
   "execution_count": null,
   "id": "fdc6d920-35b2-4361-b5b3-0131b6ddb623",
   "metadata": {},
   "outputs": [],
   "source": [
    "X_train = X_train / 255.0\n",
    "X_test = X_test / 255.0"
   ]
  },
  {
   "cell_type": "code",
   "execution_count": null,
   "id": "52638bad-ed8a-4e8e-9a8c-c5fdeb2e2595",
   "metadata": {},
   "outputs": [],
   "source": [
    "ann = models.Sequential([\n",
    "    layers.Flatten(input_shape = (32, 32, 3)),\n",
    "    layers.Dense(3000, activation = 'relu'),\n",
    "    layers.Dense(1000, activation = 'relu'),\n",
    "    layers.Dense(10, activation = 'softmax')\n",
    "])\n",
    "\n",
    "ann.compile(optimizer = 'SGD', \n",
    "            loss = 'sparsse_categorical_crossentropy',\n",
    "            metrics = ['accuracy'])\n",
    "\n",
    "ann.fir(X_train, Y_train, epochs=5)"
   ]
  },
  {
   "cell_type": "code",
   "execution_count": null,
   "id": "af147859-c774-4317-88af-e3e6424c94df",
   "metadata": {},
   "outputs": [],
   "source": [
    "from sklearn.metrics import confusion_matrix, classification_report\n",
    "# import numpy as np\n",
    "Y_pred = ann.predict(X_test)\n",
    "Y_pred_classes = [np.argmax(element) for element in Y_pred]\n",
    "\n",
    "print('classification report: \\n', classification_report(Y_test, Y_pred_classes))"
   ]
  },
  {
   "cell_type": "code",
   "execution_count": null,
   "id": "8d650a6a-9b1e-4dcf-955e-1bcf0713998c",
   "metadata": {},
   "outputs": [],
   "source": [
    "import seaborn as sns"
   ]
  },
  {
   "cell_type": "code",
   "execution_count": null,
   "id": "c7789876-5bab-49ef-84db-c487dd79c562",
   "metadata": {},
   "outputs": [],
   "source": [
    "plt.figure(figsize * (14,7))\n",
    "sns.heatmap(Y_pred, annot = True)\n",
    "plt.ylabel('Truth')\n",
    "plt.xlabel('Prediction')\n",
    "plt.title('Confusion matrix')\n",
    "plt.show"
   ]
  },
  {
   "cell_type": "code",
   "execution_count": null,
   "id": "6d2ca5a2-0967-47f8-b682-b547d31efa8f",
   "metadata": {},
   "outputs": [],
   "source": [
    "cnn = models.Sequential([\n",
    "    layers.Conv2D(filters=32,kernel_size=(3,3), activation='relu', input_shape=(32, 32, 3)),\n",
    "    layers.MaxPooling2D((2,2)),\n",
    "\n",
    "    layers.Conv2D(filters=64, kernel_size=(3,3), activation='relu'),\n",
    "    layers.MaxPooling2D((2,2)),\n",
    "\n",
    "    layers.Flatten(),\n",
    "    layers.Dense(64, activation='relu')\n",
    "    layers.Dense(10, activation='softmax')\n",
    "])"
   ]
  },
  {
   "cell_type": "code",
   "execution_count": null,
   "id": "179160b9-3148-42ce-b330-fdd3acd42c78",
   "metadata": {},
   "outputs": [],
   "source": [
    "cnn.complie(optimizer='adam', loss = 'sparse_categorical_crossentropy', metrics=['accuracy'])"
   ]
  },
  {
   "cell_type": "code",
   "execution_count": null,
   "id": "305a0b37-7f4b-4d3e-b81d-3185f057a550",
   "metadata": {},
   "outputs": [],
   "source": [
    "cnn.fit(X_train, Y_train, epochs=10)"
   ]
  },
  {
   "cell_type": "code",
   "execution_count": null,
   "id": "e2efe6c2-8338-49ba-b39f-fed6deccdb73",
   "metadata": {},
   "outputs": [],
   "source": [
    "cnn.evaluate(X_test, Y_test)"
   ]
  },
  {
   "cell_type": "code",
   "execution_count": null,
   "id": "5d23c055-2ec6-4b1e-9b29-7da2086154ee",
   "metadata": {},
   "outputs": [],
   "source": [
    "Y_pred = cnn.predict(X_test)\n",
    "Y_pred[:5]"
   ]
  },
  {
   "cell_type": "code",
   "execution_count": null,
   "id": "c1280b76-0fe8-42ed-b173-5a70924c4cca",
   "metadata": {},
   "outputs": [],
   "source": [
    "Y_classes = [np.argmax(element) for element in Y_pred]\n",
    "Y_classes[:5]"
   ]
  },
  {
   "cell_type": "code",
   "execution_count": null,
   "id": "5e85a6e3-c849-4fe0-be0e-b867642c4fe2",
   "metadata": {},
   "outputs": [],
   "source": [
    "Y_test[:5]"
   ]
  },
  {
   "cell_type": "code",
   "execution_count": null,
   "id": "be77a0c2-7241-4a9f-938e-82b53d33e332",
   "metadata": {},
   "outputs": [],
   "source": [
    "plot_sample(X_test, Y_test, 60)"
   ]
  },
  {
   "cell_type": "code",
   "execution_count": null,
   "id": "9d8459c7-f3c5-479d-9aff-6de5860c7b39",
   "metadata": {},
   "outputs": [],
   "source": [
    "plot_sample(X_test, Y_test, 100)"
   ]
  },
  {
   "cell_type": "code",
   "execution_count": null,
   "id": "8df9fb8d-aea6-4534-b5c9-57ca25467fa5",
   "metadata": {},
   "outputs": [],
   "source": [
    "classes[Y_classes[60]]"
   ]
  },
  {
   "cell_type": "code",
   "execution_count": null,
   "id": "2d6dc2f8-1e13-468d-a129-b2d2538013a8",
   "metadata": {},
   "outputs": [],
   "source": []
  },
  {
   "cell_type": "code",
   "execution_count": null,
   "id": "eb61abbd-529f-42c6-9a02-093610f1ccea",
   "metadata": {},
   "outputs": [],
   "source": []
  },
  {
   "cell_type": "code",
   "execution_count": null,
   "id": "fe8e6161-25ec-4371-ad5f-ef81b8571f71",
   "metadata": {},
   "outputs": [],
   "source": []
  },
  {
   "cell_type": "code",
   "execution_count": null,
   "id": "419b0b15-9038-4cea-8ddb-7b6021f30cdc",
   "metadata": {},
   "outputs": [],
   "source": []
  },
  {
   "cell_type": "code",
   "execution_count": null,
   "id": "88ad6b33-7a77-40ec-babb-84ff4d058dae",
   "metadata": {},
   "outputs": [],
   "source": []
  }
 ],
 "metadata": {
  "kernelspec": {
   "display_name": "Python 3 (ipykernel)",
   "language": "python",
   "name": "python3"
  },
  "language_info": {
   "codemirror_mode": {
    "name": "ipython",
    "version": 3
   },
   "file_extension": ".py",
   "mimetype": "text/x-python",
   "name": "python",
   "nbconvert_exporter": "python",
   "pygments_lexer": "ipython3",
   "version": "3.12.3"
  }
 },
 "nbformat": 4,
 "nbformat_minor": 5
}
